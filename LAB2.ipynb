{
  "nbformat": 4,
  "nbformat_minor": 0,
  "metadata": {
    "colab": {
      "name": "LAB2.ipynb",
      "provenance": [],
      "collapsed_sections": [],
      "authorship_tag": "ABX9TyNfzta/4+jHw8u/6L7aOsO5",
      "include_colab_link": true
    },
    "kernelspec": {
      "name": "python3",
      "display_name": "Python 3"
    }
  },
  "cells": [
    {
      "cell_type": "markdown",
      "metadata": {
        "id": "view-in-github",
        "colab_type": "text"
      },
      "source": [
        "<a href=\"https://colab.research.google.com/github/JosephMiller12/Practice/blob/master/LAB2.ipynb\" target=\"_parent\"><img src=\"https://colab.research.google.com/assets/colab-badge.svg\" alt=\"Open In Colab\"/></a>"
      ]
    },
    {
      "cell_type": "markdown",
      "metadata": {
        "id": "IhX0iebhCh0n"
      },
      "source": [
        "![LAB 2](https://raw.githubusercontent.com/JosephMiller12/Practice/master/Images/Lab%202_%20Pet%20Shop%20ER%20Diagram%20(2).png)"
      ]
    },
    {
      "cell_type": "markdown",
      "metadata": {
        "id": "ikz2Dlh1FKzf"
      },
      "source": [
        "# Joseph Miller Pet Shop ER diagram"
      ]
    },
    {
      "cell_type": "markdown",
      "metadata": {
        "id": "W3jZLslKD5os"
      },
      "source": [
        "My Pet Shop ER diagram has 6 entities consisting of Pets, Pet Food, Enclosures, Customer, Adoption Transaction and Food Transaction. Pets are kept in enclosures and the enclosure number corresponds to a specific location in the store. For this reason, Pets and enclosures are connected in a (0 to many optional) to 1 relationship with a cardinality of 1 to 1, as usually there will only be one pet in a corresponding enclosure. Pets also has a many to many relationship with Pet Food (connected by the EAT verb), as many of the pets have access to many of the food items. For this relationship the cardialty is 1 to 1, as typically one animal will only be fed one specific food item at a time. Customer relates to Adoption Transaction and Food Transaction in a “Purchase” relationship. This is a good example of a foreign key primary key scenario, as the Primary Key customerID is needed as a foreign key in both types of transactions. Both purchases have a 1 to (0 or many optional) crow's foot notation as there is 1 customer that can make 0 or more purchases."
      ]
    }
  ]
}