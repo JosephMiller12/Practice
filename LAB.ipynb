{
  "nbformat": 4,
  "nbformat_minor": 0,
  "metadata": {
    "colab": {
      "name": "LAB.ipynb",
      "provenance": [],
      "authorship_tag": "ABX9TyOzLtubvDbN8ILDxdCLL8gH",
      "include_colab_link": true
    },
    "kernelspec": {
      "name": "python3",
      "display_name": "Python 3"
    }
  },
  "cells": [
    {
      "cell_type": "markdown",
      "metadata": {
        "id": "view-in-github",
        "colab_type": "text"
      },
      "source": [
        "<a href=\"https://colab.research.google.com/github/JosephMiller12/Practice/blob/master/LAB.ipynb\" target=\"_parent\"><img src=\"https://colab.research.google.com/assets/colab-badge.svg\" alt=\"Open In Colab\"/></a>"
      ]
    },
    {
      "cell_type": "code",
      "metadata": {
        "id": "5oXCgYCgs3k_",
        "colab_type": "code",
        "colab": {}
      },
      "source": [
        ""
      ],
      "execution_count": null,
      "outputs": []
    },
    {
      "cell_type": "markdown",
      "metadata": {
        "id": "mprMHmkns4PY",
        "colab_type": "text"
      },
      "source": [
        "##Do you like using Jupyter Notebooks?\n"
      ]
    },
    {
      "cell_type": "markdown",
      "metadata": {
        "id": "Unq-YZYytIi-",
        "colab_type": "text"
      },
      "source": [
        "Yes, I enjoy using Jupyter Notebooks. The program has a clean look and is intuitive to use. I like google drive and most programs associated with it, because it is a simple way to store and organize my work on the web. "
      ]
    },
    {
      "cell_type": "markdown",
      "metadata": {
        "id": "sat37H6Stbbd",
        "colab_type": "text"
      },
      "source": [
        "##What do you want to learn more about in Jupyter Notebooks?"
      ]
    },
    {
      "cell_type": "markdown",
      "metadata": {
        "id": "OqlB2X-ut9cy",
        "colab_type": "text"
      },
      "source": [
        "Within Jupyter Notebooks, I would like to learn more about how code can be efficiently written and collobaroated upon on a web based platform. I would also like to learn more about how this format of coding can help with sytactical issues as well as overall clarity of code. "
      ]
    },
    {
      "cell_type": "markdown",
      "metadata": {
        "id": "0zGq6njVthBw",
        "colab_type": "text"
      },
      "source": [
        "![Matthew Alright](https://raw.githubusercontent.com/JosephMiller12/Practice/master/Images/Danny.jpg)"
      ]
    }
  ]
}