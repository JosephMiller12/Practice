{
  "nbformat": 4,
  "nbformat_minor": 0,
  "metadata": {
    "colab": {
      "name": "LAB0.ipynb",
      "provenance": [],
      "authorship_tag": "ABX9TyO3i4UzFWdjagfVrXMAXMhQ",
      "include_colab_link": true
    },
    "kernelspec": {
      "name": "python3",
      "display_name": "Python 3"
    }
  },
  "cells": [
    {
      "cell_type": "markdown",
      "metadata": {
        "id": "view-in-github",
        "colab_type": "text"
      },
      "source": [
        "<a href=\"https://colab.research.google.com/github/JosephMiller12/Practice/blob/master/LAB0.ipynb\" target=\"_parent\"><img src=\"https://colab.research.google.com/assets/colab-badge.svg\" alt=\"Open In Colab\"/></a>"
      ]
    },
    {
      "cell_type": "code",
      "metadata": {
        "id": "5oXCgYCgs3k_",
        "colab_type": "code",
        "colab": {}
      },
      "source": [
        ""
      ],
      "execution_count": null,
      "outputs": []
    },
    {
      "cell_type": "markdown",
      "metadata": {
        "id": "mprMHmkns4PY",
        "colab_type": "text"
      },
      "source": [
        "##Do you like using Jupyter Notebooks?\n"
      ]
    },
    {
      "cell_type": "markdown",
      "metadata": {
        "id": "Unq-YZYytIi-",
        "colab_type": "text"
      },
      "source": [
        "this is my answer"
      ]
    },
    {
      "cell_type": "markdown",
      "metadata": {
        "id": "sat37H6Stbbd",
        "colab_type": "text"
      },
      "source": [
        "##What do you want to learn more about in Jupyter Notebooks"
      ]
    },
    {
      "cell_type": "markdown",
      "metadata": {
        "id": "0zGq6njVthBw",
        "colab_type": "text"
      },
      "source": [
        "![Utility Knife Icon](https://raw.githubusercontent.com/JosephMiller12/Practice/master/Images/utility-knife.ico)"
      ]
    }
  ]
}